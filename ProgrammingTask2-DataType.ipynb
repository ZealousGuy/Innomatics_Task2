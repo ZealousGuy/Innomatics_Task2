{
 "cells": [
  {
   "attachments": {},
   "cell_type": "markdown",
   "metadata": {},
   "source": [
    "# Q1 List"
   ]
  },
  {
   "cell_type": "code",
   "execution_count": null,
   "metadata": {},
   "outputs": [],
   "source": [
    "\n",
    "if __name__ == '__main__':\n",
    "    x = int(input())\n",
    "    y = int(input())\n",
    "    z = int(input())\n",
    "    n = int(input())\n",
    "    \n",
    "    lst=[[i,j,k] for i in range(x+1) for j in range(y+1) for k in range(z+1) if i+j+k != n]\n",
    "    print(lst)"
   ]
  },
  {
   "attachments": {},
   "cell_type": "markdown",
   "metadata": {},
   "source": [
    "# Q2 Runner Up"
   ]
  },
  {
   "cell_type": "code",
   "execution_count": null,
   "metadata": {},
   "outputs": [],
   "source": [
    "\n",
    "if __name__ == '__main__':\n",
    "    n = int(input())\n",
    "    arr = list(map(int, input().split()))\n",
    "    arr.sort()\n",
    "    maX=arr[0]\n",
    "    runnerUp=arr[0]\n",
    "    for i in arr:\n",
    "        if maX < i:\n",
    "            runnerUp=maX\n",
    "            maX=i\n",
    "    print(runnerUp)"
   ]
  },
  {
   "attachments": {},
   "cell_type": "markdown",
   "metadata": {},
   "source": [
    "# Q3 Nested list"
   ]
  },
  {
   "cell_type": "code",
   "execution_count": null,
   "metadata": {},
   "outputs": [],
   "source": [
    "\n",
    "if __name__ == '__main__':\n",
    "    students=[]\n",
    "    grades=set()\n",
    "    second_lowest_graders=[]\n",
    "    for _ in range(int(input())):\n",
    "        name = input()\n",
    "        score = float(input())\n",
    "        students.append([name,score])\n",
    "        grades.add(score)\n",
    "        \n",
    "    second_lowest=sorted(grades)[1]\n",
    "    \n",
    "    for name,score in students:\n",
    "        if second_lowest == score:\n",
    "            second_lowest_graders.append(name)\n",
    "            \n",
    "    second_lowest_graders.sort()\n",
    "    for names in second_lowest_graders:\n",
    "        print(names)"
   ]
  },
  {
   "attachments": {},
   "cell_type": "markdown",
   "metadata": {},
   "source": [
    "# Q4 Finding Percentage"
   ]
  },
  {
   "cell_type": "code",
   "execution_count": null,
   "metadata": {},
   "outputs": [],
   "source": [
    "\n",
    "if __name__ == '__main__':\n",
    "    n = int(input())\n",
    "    student_marks = {}\n",
    "    for _ in range(n):\n",
    "        name, *line = input().split()\n",
    "        scores = list(map(float, line))\n",
    "        student_marks[name] = scores\n",
    "    query_name = input()\n",
    "    \n",
    "    avg = sum(student_marks[query_name]) / len(student_marks[query_name])\n",
    "    print(\"%.2f\" % avg)\n",
    "    \n",
    "    "
   ]
  },
  {
   "attachments": {},
   "cell_type": "markdown",
   "metadata": {},
   "source": [
    "# Q5 List"
   ]
  },
  {
   "cell_type": "code",
   "execution_count": null,
   "metadata": {},
   "outputs": [],
   "source": [
    "\n",
    "\n",
    "if __name__ == '__main__':\n",
    "    N = int(input())\n",
    "    my_list=[]\n",
    "    \n",
    "    while N!=0:\n",
    "        Cmd=input().split()\n",
    "        if len(Cmd)==3:\n",
    "            i=int(Cmd[1])\n",
    "            e=int(Cmd[2])\n",
    "        elif len(Cmd)==2:\n",
    "            e=int(Cmd[1])\n",
    "            \n",
    "        if Cmd[0]==\"insert\":\n",
    "            my_list.insert(i,e)\n",
    "        elif Cmd[0]==\"print\":\n",
    "            print(my_list)\n",
    "        elif Cmd[0]==\"remove\":\n",
    "            my_list.remove(e)\n",
    "        elif Cmd[0]==\"append\":\n",
    "            my_list.append(e)\n",
    "        elif Cmd[0]==\"sort\":\n",
    "            my_list.sort()\n",
    "        elif Cmd[0]==\"pop\":\n",
    "            my_list.pop()\n",
    "        elif Cmd[0]==\"reverse\":\n",
    "            my_list.reverse()\n",
    "        N-=1"
   ]
  },
  {
   "attachments": {},
   "cell_type": "markdown",
   "metadata": {},
   "source": [
    "# Q6 Tuples"
   ]
  },
  {
   "cell_type": "code",
   "execution_count": null,
   "metadata": {},
   "outputs": [],
   "source": [
    "\n",
    "if __name__ == '__main__':\n",
    "    n = int(input())\n",
    "    integer_list = map(int, input().split())\n",
    "    tup=tuple(integer_list)\n",
    "    print(hash(tup))"
   ]
  },
  {
   "attachments": {},
   "cell_type": "markdown",
   "metadata": {},
   "source": [
    "# Q7 Intro to Sets"
   ]
  },
  {
   "cell_type": "code",
   "execution_count": null,
   "metadata": {},
   "outputs": [],
   "source": [
    "\n",
    "def average(array):\n",
    "    # your code goes here\n",
    "    s=set(array)\n",
    "    return float(sum(s)/len(s))\n",
    "    \n",
    "\n",
    "if __name__ == '__main__':\n",
    "    n = int(input())\n",
    "    arr = list(map(int, input().split()))\n",
    "    result = average(arr)\n",
    "    print(result)"
   ]
  },
  {
   "attachments": {},
   "cell_type": "markdown",
   "metadata": {},
   "source": [
    "# Q8 No Idea!"
   ]
  },
  {
   "cell_type": "code",
   "execution_count": null,
   "metadata": {},
   "outputs": [],
   "source": [
    "# Enter your code here. Read input from STDIN. Print output to STDOUT\n",
    "No_of_arr_elements,No_of_set_elements=map(int,input().split())\n",
    "arr=list(map(int,input().split()))\n",
    "setA=set(map(int,input().split()))\n",
    "setB=set(map(int,input().split()))\n",
    "happiness=0\n",
    "for i in arr:\n",
    "    if i in setA:\n",
    "        happiness+=1\n",
    "    elif i in setB:\n",
    "        happiness-=1\n",
    "        \n",
    "print(happiness)"
   ]
  },
  {
   "attachments": {},
   "cell_type": "markdown",
   "metadata": {},
   "source": [
    "# Q9 Symmetric Difference"
   ]
  },
  {
   "cell_type": "code",
   "execution_count": null,
   "metadata": {},
   "outputs": [],
   "source": [
    "# Enter your code here. Read input from STDIN. Print output to STDOUT\n",
    "lenght_of_set_M=int(input())\n",
    "set_M=set(map(int,input().split()))\n",
    "lenght_of_set_N=int(input())\n",
    "set_N=set(map(int,input().split()))\n",
    "\n",
    "symm_diff=(set_M.difference(set_N)).union((set_N.difference(set_M)))\n",
    "out=list(symm_diff)\n",
    "out.sort()\n",
    "\n",
    "for i in out:\n",
    "    print(i)"
   ]
  },
  {
   "attachments": {},
   "cell_type": "markdown",
   "metadata": {},
   "source": [
    "# Q10 set .add()"
   ]
  },
  {
   "cell_type": "code",
   "execution_count": null,
   "metadata": {},
   "outputs": [],
   "source": [
    "# Enter your code here. Read input from STDIN. Print output to STDOUT\n",
    "No_of_country_stamps=int(input())\n",
    "\n",
    "set_of_country=set()\n",
    "for i in range(No_of_country_stamps):\n",
    "    set_of_country.add(input())\n",
    "    \n",
    "print(len(set_of_country))"
   ]
  },
  {
   "attachments": {},
   "cell_type": "markdown",
   "metadata": {},
   "source": [
    "# Q11 set .discard(),remove(),pop()"
   ]
  },
  {
   "cell_type": "code",
   "execution_count": null,
   "metadata": {},
   "outputs": [],
   "source": [
    "n = int(input())\n",
    "s = set(map(int, input().split()))\n",
    "\n",
    "No_of_Cmd=int(input())\n",
    "\n",
    "while No_of_Cmd != 0:\n",
    "    Cmd=input().split()\n",
    "    if len(Cmd)==2:\n",
    "        x=int(Cmd[1])\n",
    "    \n",
    "    if Cmd[0]==\"pop\":\n",
    "        s.pop()\n",
    "    elif Cmd[0]==\"remove\":\n",
    "        s.remove(x)\n",
    "    elif Cmd[0]==\"discard\":\n",
    "        s.discard(x)\n",
    "    No_of_Cmd-=1\n",
    "    \n",
    "print(sum(s))"
   ]
  },
  {
   "attachments": {},
   "cell_type": "markdown",
   "metadata": {},
   "source": [
    "# Q12 set .union()"
   ]
  },
  {
   "cell_type": "code",
   "execution_count": null,
   "metadata": {},
   "outputs": [],
   "source": [
    "# Enter your code here. Read input from STDIN. Print output to STDOUT\n",
    "lenght_of_set_Eng=int(input())\n",
    "Eng=set(map(int,input().split()))\n",
    "lenght_of_set_Frn=int(input())\n",
    "Frn=set(map(int,input().split()))\n",
    "print(len(Eng.union(Frn)))"
   ]
  },
  {
   "attachments": {},
   "cell_type": "markdown",
   "metadata": {},
   "source": [
    "# Q13 set .intersection()"
   ]
  },
  {
   "cell_type": "code",
   "execution_count": null,
   "metadata": {},
   "outputs": [],
   "source": [
    "# Enter your code here. Read input from STDIN. Print output to STDOUT\n",
    "lenght_of_set_Eng=int(input())\n",
    "Eng=set(map(int,input().split()))\n",
    "lenght_of_set_Frn=int(input())\n",
    "Frn=set(map(int,input().split()))\n",
    "print(len(Eng.intersection(Frn)))"
   ]
  },
  {
   "attachments": {},
   "cell_type": "markdown",
   "metadata": {},
   "source": [
    "# Q14 set .difference()"
   ]
  },
  {
   "cell_type": "code",
   "execution_count": null,
   "metadata": {},
   "outputs": [],
   "source": [
    "# Enter your code here. Read input from STDIN. Print output to STDOUT\n",
    "lenght_of_set_Eng=int(input())\n",
    "Eng=set(map(int,input().split()))\n",
    "lenght_of_set_Frn=int(input())\n",
    "Frn=set(map(int,input().split()))\n",
    "print(len(Eng.difference(Frn)))"
   ]
  },
  {
   "attachments": {},
   "cell_type": "markdown",
   "metadata": {},
   "source": [
    "# Q15 set .symmetric_difference()"
   ]
  },
  {
   "cell_type": "code",
   "execution_count": null,
   "metadata": {},
   "outputs": [],
   "source": [
    "# Enter your code here. Read input from STDIN. Print output to STDOUT\n",
    "lenght_of_set_Eng=int(input())\n",
    "Eng=set(map(int,input().split()))\n",
    "lenght_of_set_Frn=int(input())\n",
    "Frn=set(map(int,input().split()))\n",
    "print(len(Eng.symmetric_difference(Frn)))\n"
   ]
  },
  {
   "attachments": {},
   "cell_type": "markdown",
   "metadata": {},
   "source": [
    "# Q16 set Mutations"
   ]
  },
  {
   "cell_type": "code",
   "execution_count": null,
   "metadata": {},
   "outputs": [],
   "source": [
    "# Enter your code here. Read input from STDIN. Print output to STDOUT\n",
    "No_of_elements_in_A=int(input())\n",
    "set_A=set(map(int,input().split()))\n",
    "No_of_Sets=int(input())\n",
    "\n",
    "while No_of_Sets!=0:\n",
    "    Cmd=input().split()\n",
    "    Set_B=set(map(int,input().split()))\n",
    "    \n",
    "    if Cmd[0]==\"update\":\n",
    "        set_A.update(Set_B)\n",
    "    elif Cmd[0]==\"intersection_update\":\n",
    "        set_A.intersection_update(Set_B)\n",
    "    elif Cmd[0]==\"symmetric_difference_update\":\n",
    "        set_A.symmetric_difference_update(Set_B)\n",
    "    elif Cmd[0]==\"difference_update\":\n",
    "        set_A.difference_update(Set_B)\n",
    "    \n",
    "    No_of_Sets-=1\n",
    "    \n",
    "print(sum(set_A))"
   ]
  },
  {
   "attachments": {},
   "cell_type": "markdown",
   "metadata": {},
   "source": [
    "# Q17 The Captain's Room"
   ]
  },
  {
   "cell_type": "code",
   "execution_count": null,
   "metadata": {},
   "outputs": [],
   "source": [
    "# Enter your code here. Read input from STDIN. Print output to STDOUT\n",
    "K=int(input())\n",
    "list_rooms=list(map(int,input().split()))\n",
    "set_rooms=set(list_rooms)\n",
    "for i in set_rooms:\n",
    "    list_rooms.remove(i)\n",
    "    \n",
    "captains_room=(set_rooms-set(list_rooms)).pop()\n",
    "print(captains_room)"
   ]
  },
  {
   "attachments": {},
   "cell_type": "markdown",
   "metadata": {},
   "source": [
    "# Q18 Check subset"
   ]
  },
  {
   "cell_type": "code",
   "execution_count": null,
   "metadata": {},
   "outputs": [],
   "source": [
    "# Enter your code here. Read input from STDIN. Print output to STDOUT\n",
    "No_of_test_cases=int(input())\n",
    "while No_of_test_cases!=0:\n",
    "    No_of_elements_A=int(input())\n",
    "    set_A=set(map(int,input().split()))\n",
    "    No_of_elements_B=int(input())\n",
    "    set_B=set(map(int,input().split()))\n",
    "    \n",
    "    if len(set_A-set_B) == 0:\n",
    "        print(True)\n",
    "    else:\n",
    "        print(False)\n",
    "    \n",
    "    No_of_test_cases-=1\n"
   ]
  },
  {
   "attachments": {},
   "cell_type": "markdown",
   "metadata": {},
   "source": [
    "# Q19 Check Strict Superset"
   ]
  },
  {
   "cell_type": "code",
   "execution_count": null,
   "metadata": {},
   "outputs": [],
   "source": [
    "# Enter your code here. Read input from STDIN. Print output to STDOUT\n",
    "set_A=set(map(int,input().split()))\n",
    "n=int(input())\n",
    "count=0\n",
    "\n",
    "for i in range(n):\n",
    "    set_B=set(map(int,input().split()))\n",
    "    if not set_A.issuperset(set_B):\n",
    "        count+=1\n",
    "        \n",
    "\n",
    "if count != 0:\n",
    "    print(False)\n",
    "else:\n",
    "    print(True)"
   ]
  }
 ],
 "metadata": {
  "kernelspec": {
   "display_name": "Intern",
   "language": "python",
   "name": "python3"
  },
  "language_info": {
   "codemirror_mode": {
    "name": "ipython",
    "version": 3
   },
   "file_extension": ".py",
   "mimetype": "text/x-python",
   "name": "python",
   "nbconvert_exporter": "python",
   "pygments_lexer": "ipython3",
   "version": "3.11.2"
  },
  "orig_nbformat": 4,
  "vscode": {
   "interpreter": {
    "hash": "9ec7544570d048e304280c5b2a1dbc8a6f71fbbb3593110631c13137fe1c16d3"
   }
  }
 },
 "nbformat": 4,
 "nbformat_minor": 2
}
