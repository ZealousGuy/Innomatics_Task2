{
 "cells": [
  {
   "attachments": {},
   "cell_type": "markdown",
   "metadata": {},
   "source": [
    "# Q1 sWAP cASE"
   ]
  },
  {
   "cell_type": "code",
   "execution_count": null,
   "metadata": {},
   "outputs": [],
   "source": [
    "def swap_case(s):\n",
    "    return s.swapcase()\n",
    "\n",
    "if __name__ == '__main__':\n",
    "    s = input()\n",
    "    result = swap_case(s)\n",
    "    print(result)"
   ]
  },
  {
   "attachments": {},
   "cell_type": "markdown",
   "metadata": {},
   "source": [
    "# Q2 String Split and Join"
   ]
  },
  {
   "cell_type": "code",
   "execution_count": null,
   "metadata": {},
   "outputs": [],
   "source": [
    "def split_and_join(line):\n",
    "    # write your code here\n",
    "    line_split=line.split(\" \")\n",
    "    return \"-\".join(line_split)\n",
    "\n",
    "if __name__ == '__main__':\n",
    "    line = input()\n",
    "    result = split_and_join(line)\n",
    "    print(result)"
   ]
  },
  {
   "attachments": {},
   "cell_type": "markdown",
   "metadata": {},
   "source": [
    "# Q3 What's Your Name?"
   ]
  },
  {
   "cell_type": "code",
   "execution_count": null,
   "metadata": {},
   "outputs": [],
   "source": [
    "#\n",
    "# Complete the 'print_full_name' function below.\n",
    "#\n",
    "# The function is expected to return a STRING.\n",
    "# The function accepts following parameters:\n",
    "#  1. STRING first\n",
    "#  2. STRING last\n",
    "#\n",
    "\n",
    "def print_full_name(first, last):\n",
    "    # Write your code here\n",
    "    print('Hello '+first_name+' '+last_name+'! You just delved into python.')\n",
    "\n",
    "if __name__ == '__main__':\n",
    "    first_name = input()\n",
    "    last_name = input()\n",
    "    print_full_name(first_name, last_name)"
   ]
  },
  {
   "attachments": {},
   "cell_type": "markdown",
   "metadata": {},
   "source": [
    "# Q4 Mutations"
   ]
  },
  {
   "cell_type": "code",
   "execution_count": null,
   "metadata": {},
   "outputs": [],
   "source": [
    "def mutate_string(string, position, character):\n",
    "    return string[:position]+character+string[position+1:]\n",
    "\n",
    "if __name__ == '__main__':\n",
    "    s = input()\n",
    "    i, c = input().split()\n",
    "    s_new = mutate_string(s, int(i), c)\n",
    "    print(s_new)"
   ]
  },
  {
   "attachments": {},
   "cell_type": "markdown",
   "metadata": {},
   "source": [
    "# Q5 Find a string"
   ]
  },
  {
   "cell_type": "code",
   "execution_count": null,
   "metadata": {},
   "outputs": [],
   "source": [
    "def count_substring(string, sub_string):\n",
    "    count=0\n",
    "    found_at=string.find(sub_string)\n",
    "    while found_at!=-1:\n",
    "        count+=1\n",
    "        found_at=string.find(sub_string,found_at+1)\n",
    "    return count\n",
    "\n",
    "if __name__ == '__main__':\n",
    "    string = input().strip()\n",
    "    sub_string = input().strip()\n",
    "    \n",
    "    count = count_substring(string, sub_string)\n",
    "    print(count)"
   ]
  },
  {
   "attachments": {},
   "cell_type": "markdown",
   "metadata": {},
   "source": [
    "# Q6 String Validators"
   ]
  },
  {
   "cell_type": "code",
   "execution_count": null,
   "metadata": {},
   "outputs": [],
   "source": [
    "if __name__ == '__main__':\n",
    "    s = input()\n",
    "    is_alphanum=False\n",
    "    is_alpha=False\n",
    "    has_digit=False\n",
    "    has_lower=False\n",
    "    has_upper=False\n",
    "    \n",
    "    for char in s:\n",
    "        if char.isalnum():\n",
    "            is_alphanum=True\n",
    "        if char.isalpha():\n",
    "            is_alpha=True\n",
    "        if char.isdigit():\n",
    "            has_digit=True\n",
    "        if char.islower():\n",
    "            has_lower=True\n",
    "        if char.isupper():\n",
    "            has_upper=True\n",
    "    \n",
    "    print(is_alphanum)\n",
    "    print(is_alpha)\n",
    "    print(has_digit)\n",
    "    print(has_lower)\n",
    "    print(has_upper)"
   ]
  },
  {
   "attachments": {},
   "cell_type": "markdown",
   "metadata": {},
   "source": [
    "# Q7 Text Alignment"
   ]
  },
  {
   "cell_type": "code",
   "execution_count": null,
   "metadata": {},
   "outputs": [],
   "source": [
    "#Replace all ______ with rjust, ljust or center. \n",
    "\n",
    "thickness = int(input()) #This must be an odd number\n",
    "c = 'H'\n",
    "\n",
    "#Top Cone\n",
    "for i in range(thickness):\n",
    "    print((c*i).rjust(thickness-1)+c+(c*i).ljust(thickness-1))\n",
    "\n",
    "#Top Pillars\n",
    "for i in range(thickness+1):\n",
    "    print((c*thickness).center(thickness*2)+(c*thickness).center(thickness*6))\n",
    "\n",
    "#Middle Belt\n",
    "for i in range((thickness+1)//2):\n",
    "    print((c*thickness*5).center(thickness*6))    \n",
    "\n",
    "#Bottom Pillars\n",
    "for i in range(thickness+1):\n",
    "    print((c*thickness).center(thickness*2)+(c*thickness).center(thickness*6))    \n",
    "\n",
    "#Bottom Cone\n",
    "for i in range(thickness):\n",
    "    print(((c*(thickness-i-1)).rjust(thickness)+c+(c*(thickness-i-1)).ljust(thickness)).rjust(thickness*6))"
   ]
  },
  {
   "attachments": {},
   "cell_type": "markdown",
   "metadata": {},
   "source": [
    "# Q8 Text Wrap"
   ]
  },
  {
   "cell_type": "code",
   "execution_count": null,
   "metadata": {},
   "outputs": [],
   "source": [
    "import textwrap\n",
    "\n",
    "def wrap(string, max_width):\n",
    "    count=0\n",
    "    res=\"\"\n",
    "    for char in string:\n",
    "        if count==max_width:\n",
    "            res+=\"\\n\"\n",
    "            res+=char\n",
    "            count=0\n",
    "        else:\n",
    "            res+=char\n",
    "        count+=1\n",
    "    return res\n",
    "\n",
    "if __name__ == '__main__':\n",
    "    string, max_width = input(), int(input())\n",
    "    result = wrap(string, max_width)\n",
    "    print(result)\n"
   ]
  },
  {
   "attachments": {},
   "cell_type": "markdown",
   "metadata": {},
   "source": [
    "# Q9 Designer Door Mat"
   ]
  },
  {
   "cell_type": "code",
   "execution_count": null,
   "metadata": {},
   "outputs": [],
   "source": [
    "# Enter your code here. Read input from STDIN. Print output to STDOUT\n",
    "# N = odd, M=3*N \n",
    "N,M=map(int,input().split())\n",
    "res=\"\"\n",
    "for i in range(N//2):\n",
    "    string=\".|.\"*(2*i+1)\n",
    "    res=string.center(M,'-')\n",
    "    print(res)\n",
    "    \n",
    "print(\"WELCOME\".center(M,'-'))\n",
    "\n",
    "for i in reversed(range(N//2)):\n",
    "    string=\".|.\"*(2*i+1)\n",
    "    res=string.center(M,'-')\n",
    "    print(res)"
   ]
  },
  {
   "attachments": {},
   "cell_type": "markdown",
   "metadata": {},
   "source": [
    "# Q10 String Formatting"
   ]
  },
  {
   "cell_type": "code",
   "execution_count": null,
   "metadata": {},
   "outputs": [],
   "source": [
    "def print_formatted(number):\n",
    "    # your code goes here\n",
    "    padding=len(f\"{number:b}\")\n",
    "    for i in range(1,number+1):\n",
    "        print(f\"{i}\".rjust(padding),f\"{i:o}\".rjust(padding),f\"{i:X}\".rjust(padding),f\"{i:b}\".rjust(padding))\n",
    "if __name__ == '__main__':\n",
    "    n = int(input())\n",
    "    print_formatted(n)"
   ]
  },
  {
   "attachments": {},
   "cell_type": "markdown",
   "metadata": {},
   "source": [
    "# Q11 Alphabet Rangoli"
   ]
  },
  {
   "cell_type": "code",
   "execution_count": null,
   "metadata": {},
   "outputs": [],
   "source": [
    "def print_rangoli(size):\n",
    "    # your code goes here\n",
    "    width = size*4-3\n",
    "    string=''\n",
    "    \n",
    "    for i in range(1,size+1):\n",
    "        string=''\n",
    "        for j in range(0,i):\n",
    "            string+=chr(96+size-j)\n",
    "            if len(string)<width:\n",
    "                string+='-'\n",
    "        for k in range(i-1,0,-1):\n",
    "            string+=chr(97+size-k)\n",
    "            if len(string)<width:\n",
    "                string+='-'\n",
    "        print(string.center(width,'-'))\n",
    "        \n",
    "# Reverse\n",
    "    for i in reversed(range(1,size)):\n",
    "        string=''\n",
    "        for j in range(0,i):\n",
    "            string+=chr(96+size-j)\n",
    "            if len(string)<width:\n",
    "                string+='-'\n",
    "        for k in range(i-1,0,-1):\n",
    "            string+=chr(97+size-k)\n",
    "            if len(string)<width:\n",
    "                string+='-'\n",
    "        print(string.center(width,'-'))\n",
    "\n",
    "if __name__ == '__main__':\n",
    "    n = int(input())\n",
    "    print_rangoli(n)"
   ]
  },
  {
   "attachments": {},
   "cell_type": "markdown",
   "metadata": {},
   "source": [
    "# Q12 Capitalize!"
   ]
  },
  {
   "cell_type": "code",
   "execution_count": null,
   "metadata": {},
   "outputs": [],
   "source": [
    "#!/bin/python3\n",
    "\n",
    "import math\n",
    "import os\n",
    "import random\n",
    "import re\n",
    "import sys\n",
    "\n",
    "# Complete the solve function below.\n",
    "def solve(s):\n",
    "    s1=s.split(sep=' ')\n",
    "    s2=''\n",
    "    for i in s1:\n",
    "        s2+=' '+i.capitalize()\n",
    "    \n",
    "    return s2.strip()\n",
    "if __name__ == '__main__':\n",
    "    fptr = open(os.environ['OUTPUT_PATH'], 'w')\n",
    "\n",
    "    s = input()\n",
    "\n",
    "    result = solve(s)\n",
    "\n",
    "    fptr.write(result + '\\n')\n",
    "\n",
    "    fptr.close()\n"
   ]
  },
  {
   "attachments": {},
   "cell_type": "markdown",
   "metadata": {},
   "source": [
    "# Q13 The Minion Game"
   ]
  },
  {
   "cell_type": "code",
   "execution_count": null,
   "metadata": {},
   "outputs": [],
   "source": [
    "def minion_game(string):\n",
    "    # your code goes here\n",
    "    stuart=0\n",
    "    kevin=0\n",
    "    vowels=set(['A','E','I','O','U'])\n",
    "    strlen=len(string)\n",
    "    \n",
    "    for i in range(strlen):\n",
    "        if string[i] in vowels:\n",
    "            kevin += strlen-i\n",
    "        else:\n",
    "            stuart += strlen-i\n",
    "            \n",
    "    if stuart>kevin:\n",
    "        print(\"Stuart\",stuart)\n",
    "    elif kevin>stuart:\n",
    "        print(\"Kevin\",kevin)\n",
    "    else:\n",
    "        print(\"Draw\")\n",
    "\n",
    "if __name__ == '__main__':\n",
    "    s = input()\n",
    "    minion_game(s)"
   ]
  },
  {
   "attachments": {},
   "cell_type": "markdown",
   "metadata": {},
   "source": [
    "# Q14 Merge the Tools!"
   ]
  },
  {
   "cell_type": "code",
   "execution_count": null,
   "metadata": {},
   "outputs": [],
   "source": [
    "def merge_the_tools(string, k):\n",
    "    # your code goes here\n",
    "    n = len(string)\n",
    "    for i in range(0, n, k):\n",
    "        substring = string[i:i+k]\n",
    "        unique_chars = []\n",
    "        \n",
    "        for char in substring:\n",
    "            if char not in unique_chars:\n",
    "                unique_chars.append(char)\n",
    "        print(\"\".join(unique_chars))\n",
    "\n",
    "if __name__ == '__main__':\n",
    "    string, k = input(), int(input())\n",
    "    merge_the_tools(string, k)"
   ]
  }
 ],
 "metadata": {
  "kernelspec": {
   "display_name": "Intern",
   "language": "python",
   "name": "python3"
  },
  "language_info": {
   "codemirror_mode": {
    "name": "ipython",
    "version": 3
   },
   "file_extension": ".py",
   "mimetype": "text/x-python",
   "name": "python",
   "nbconvert_exporter": "python",
   "pygments_lexer": "ipython3",
   "version": "3.11.2"
  },
  "orig_nbformat": 4
 },
 "nbformat": 4,
 "nbformat_minor": 2
}
