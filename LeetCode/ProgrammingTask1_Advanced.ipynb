{
 "cells": [
  {
   "attachments": {},
   "cell_type": "markdown",
   "metadata": {},
   "source": [
    "# Q1 Running Sum of 1d Array"
   ]
  },
  {
   "cell_type": "code",
   "execution_count": null,
   "metadata": {},
   "outputs": [],
   "source": [
    "class Solution:\n",
    "    def runningSum(self, nums: List[int]) -> List[int]:\n",
    "        sum=0\n",
    "        summed_list=[]\n",
    "        for i in range(len(nums)):\n",
    "            sum+=nums[i]\n",
    "            summed_list.append(sum)\n",
    "        return summed_list"
   ]
  },
  {
   "attachments": {},
   "cell_type": "markdown",
   "metadata": {},
   "source": [
    "# Q2 Shuffle the Array"
   ]
  },
  {
   "cell_type": "code",
   "execution_count": null,
   "metadata": {},
   "outputs": [],
   "source": [
    "class Solution:\n",
    "    def runningSum(self, nums: List[int]) -> List[int]:\n",
    "        sum=0\n",
    "        summed_list=[]\n",
    "        for i in range(len(nums)):\n",
    "            sum+=nums[i]\n",
    "            summed_list.append(sum)\n",
    "        return summed_list"
   ]
  },
  {
   "attachments": {},
   "cell_type": "markdown",
   "metadata": {},
   "source": [
    "# Q3 Kids With the Greatest Number of Candies"
   ]
  },
  {
   "cell_type": "code",
   "execution_count": null,
   "metadata": {},
   "outputs": [],
   "source": [
    "class Solution:\n",
    "    def kidsWithCandies(self, candies: List[int], extraCandies: int) -> List[bool]:\n",
    "        highest_candy_count=max(candies)\n",
    "        res_list=[]\n",
    "        for i in range(len(candies)):\n",
    "            res_list.append(candies[i]+extraCandies >= highest_candy_count)\n",
    "\n",
    "        return res_list"
   ]
  }
 ],
 "metadata": {
  "kernelspec": {
   "display_name": "Intern",
   "language": "python",
   "name": "python3"
  },
  "language_info": {
   "codemirror_mode": {
    "name": "ipython",
    "version": 3
   },
   "file_extension": ".py",
   "mimetype": "text/x-python",
   "name": "python",
   "nbconvert_exporter": "python",
   "pygments_lexer": "ipython3",
   "version": "3.11.2"
  },
  "orig_nbformat": 4
 },
 "nbformat": 4,
 "nbformat_minor": 2
}
