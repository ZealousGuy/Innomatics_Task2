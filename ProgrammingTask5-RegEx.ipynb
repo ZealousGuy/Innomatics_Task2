{
 "cells": [
  {
   "attachments": {},
   "cell_type": "markdown",
   "metadata": {},
   "source": [
    "# Q1 Detect Floating Point Number"
   ]
  },
  {
   "cell_type": "code",
   "execution_count": null,
   "metadata": {},
   "outputs": [],
   "source": [
    "# Enter your code here. Read input from STDIN. Print output to STDOUT\n",
    "import re\n",
    "N=int(input())\n",
    "for i in range(N):\n",
    "    print(bool(re.search(r'^[-+]?\\d*\\.\\d+$',input())))"
   ]
  },
  {
   "attachments": {},
   "cell_type": "markdown",
   "metadata": {},
   "source": [
    "# Q2 Re.split()"
   ]
  },
  {
   "cell_type": "code",
   "execution_count": null,
   "metadata": {},
   "outputs": [],
   "source": [
    "regex_pattern = r\"[,.]\"\t# Do not delete 'r'.\n",
    "\n",
    "import re\n",
    "print(\"\\n\".join(re.split(regex_pattern, input())))"
   ]
  },
  {
   "attachments": {},
   "cell_type": "markdown",
   "metadata": {},
   "source": [
    "# Q3 Group(), Groups() & Groupdict()"
   ]
  },
  {
   "cell_type": "code",
   "execution_count": null,
   "metadata": {},
   "outputs": [],
   "source": [
    "# Enter your code here. Read input from STDIN. Print output to STDOUT\n",
    "import re \n",
    "result = re.search(r'([A-Za-z0-9])\\1',input())\n",
    "\n",
    "if result==None:\n",
    "    print(-1)\n",
    "else:\n",
    "    print(result[1])"
   ]
  },
  {
   "attachments": {},
   "cell_type": "markdown",
   "metadata": {},
   "source": [
    "# Q4 Re.findall() & Re.finditer()"
   ]
  },
  {
   "cell_type": "code",
   "execution_count": null,
   "metadata": {},
   "outputs": [],
   "source": [
    "import re\n",
    "# Enter your code here. Read input from STDIN. Print output to STDOUT\n",
    "reg_pattern=r'(?<=[qwrtypsdfghjklzxcvbnmQWRTYPSDFGHJKLZXCVBNM])([AEIOUaeiou]{2,})(?=[qwrtypsdfghjklzxcvbnmQWRTYPSDFGHJKLZXCVBNM])'\n",
    "\n",
    "result=re.findall(reg_pattern,input())\n",
    "\n",
    "if result:\n",
    "    for i in result:\n",
    "        print(i)\n",
    "else:\n",
    "    print(-1)"
   ]
  },
  {
   "attachments": {},
   "cell_type": "markdown",
   "metadata": {},
   "source": [
    "# Q5 Re.start() & Re.end()"
   ]
  },
  {
   "cell_type": "code",
   "execution_count": null,
   "metadata": {},
   "outputs": [],
   "source": [
    "import re\n",
    "\n",
    "str_S=input().strip()\n",
    "str_k=input().strip()\n",
    "found=False\n",
    "\n",
    "for i in range(len(str_S)):\n",
    "    matched=re.match(str_k, str_S[i:])\n",
    "    if matched:\n",
    "        start=matched.start()+i\n",
    "        end=i+matched.end() - 1\n",
    "        print((start, end))\n",
    "        found=True\n",
    "if found==False:\n",
    "    print(\"(-1, -1)\")"
   ]
  },
  {
   "attachments": {},
   "cell_type": "markdown",
   "metadata": {},
   "source": [
    "# Q6 Regex Substitution"
   ]
  },
  {
   "cell_type": "code",
   "execution_count": null,
   "metadata": {},
   "outputs": [],
   "source": [
    "# Enter your code here. Read input from STDIN. Print output to STDOUT\n",
    "import re\n",
    "for i in range(int(input())):\n",
    "    res=re.sub(\"(?<=\\s)&&(?=\\s)\",\"and\",input())\n",
    "    print(re.sub(\"(?<=\\s)\\|\\|(?=\\s)\",\"or\",res))"
   ]
  },
  {
   "attachments": {},
   "cell_type": "markdown",
   "metadata": {},
   "source": [
    "# Q7 Validating Roman Numerals"
   ]
  },
  {
   "cell_type": "code",
   "execution_count": null,
   "metadata": {},
   "outputs": [],
   "source": [
    "regex_pattern = r\"^M{0,3}(CM|CD|D?C{0,3})(XC|XL|L?X{0,3})(IX|IV|V?I{0,3})$\"\t# Do not delete 'r'.\n",
    "\n",
    "import re\n",
    "print(str(bool(re.match(regex_pattern, input()))))"
   ]
  },
  {
   "attachments": {},
   "cell_type": "markdown",
   "metadata": {},
   "source": [
    "# Q8 Validating phone numbers"
   ]
  },
  {
   "cell_type": "code",
   "execution_count": null,
   "metadata": {},
   "outputs": [],
   "source": [
    "# Enter your code here. Read input from STDIN. Print output to STDOUT\n",
    "import re\n",
    "pattern=re.compile(r'^[7-9]\\d{9}$')\n",
    "for n in range(int(input())):\n",
    "    phone_no=input()\n",
    "    if(bool(re.match(pattern,phone_no))):\n",
    "        print(\"YES\")\n",
    "    else:\n",
    "        print(\"NO\")"
   ]
  },
  {
   "attachments": {},
   "cell_type": "markdown",
   "metadata": {},
   "source": [
    "# Q9 Validating and Parsing Email Addresses"
   ]
  },
  {
   "cell_type": "code",
   "execution_count": null,
   "metadata": {},
   "outputs": [],
   "source": [
    "import email.utils\n",
    "import re\n",
    "\n",
    "for i in range(int(input())):\n",
    "    mails = input()\n",
    "    parsed_email = email.utils.parseaddr(mails)[1].strip()\n",
    "    matched = bool(re.match(r\"(^[A-Za-z][A-Za-z0-9\\._-]+)@([A-Za-z]+)\\.([A-Za-z]{1,3})$\", parsed_email))\n",
    "    if matched:\n",
    "        print(mails)"
   ]
  },
  {
   "attachments": {},
   "cell_type": "markdown",
   "metadata": {},
   "source": [
    "# Q10 Hex Color Code"
   ]
  },
  {
   "cell_type": "code",
   "execution_count": null,
   "metadata": {},
   "outputs": [],
   "source": [
    "# Enter your code here. Read input from STDIN. Print output to STDOUT\n",
    "import re\n",
    "pattern=re.compile(r'(#[0-9A-Fa-f]{3}|#[0-9A-Fa-f]{6})(?:[;,.)]{1})')\n",
    "for n in range(int(input())):\n",
    "    s=input()\n",
    "    matched_res=re.findall(pattern,s)\n",
    "    for i in matched_res:\n",
    "        if i !=\"\":\n",
    "            print(i)"
   ]
  },
  {
   "attachments": {},
   "cell_type": "markdown",
   "metadata": {},
   "source": [
    "# Q11 HTML Parser - Part 1"
   ]
  },
  {
   "cell_type": "code",
   "execution_count": null,
   "metadata": {},
   "outputs": [],
   "source": [
    "# Enter your code here. Read input from STDIN. Print output to STDOUT\n",
    "from html.parser import HTMLParser\n",
    "\n",
    "class MyHTMLParser(HTMLParser):\n",
    "    \n",
    "    def handle_attributes(self,attrs):\n",
    "        for attribute in attrs:\n",
    "            print(\"->\",attribute[0],\">\",attribute[1])\n",
    "            \n",
    "    def handle_starttag(self, tag, attrs):\n",
    "        print(\"Start :\", tag)\n",
    "        self.handle_attributes(attrs)\n",
    "        \n",
    "    def handle_endtag(self, tag):\n",
    "        print(\"End   :\", tag)\n",
    "        \n",
    "    def handle_startendtag(self, tag, attrs):\n",
    "        print(\"Empty :\", tag)\n",
    "        self.handle_attributes(attrs)\n",
    "        \n",
    "\n",
    "# instantiate the parser and fed it some HTML\n",
    "parser = MyHTMLParser()\n",
    "n = int(input())\n",
    "\n",
    "s = \"\".join(input() for i in range(n))\n",
    "parser.feed(s)"
   ]
  },
  {
   "attachments": {},
   "cell_type": "markdown",
   "metadata": {},
   "source": [
    "# Q12 HTML Parser - Part 2"
   ]
  },
  {
   "cell_type": "code",
   "execution_count": null,
   "metadata": {},
   "outputs": [],
   "source": [
    "from html.parser import HTMLParser\n",
    "\n",
    "class MyHTMLParser(HTMLParser):\n",
    "    def handle_comment(self, data):\n",
    "        lines=len(data.split(\"\\n\"))\n",
    "        if lines>1:\n",
    "            print(\">>> Multi-line Comment\")\n",
    "        else:\n",
    "            print(\">>> Single-line Comment\")       \n",
    "        print(data)\n",
    "    \n",
    "    def handle_data(self, data):\n",
    "        if data.strip():  #checks for whitespaces\n",
    "            print(\">>> Data\")\n",
    "            print(data)\n",
    "html = \"\"       \n",
    "for i in range(int(input())):\n",
    "    html += input().rstrip()\n",
    "    html += '\\n'\n",
    "    \n",
    "parser = MyHTMLParser()\n",
    "parser.feed(html)\n",
    "parser.close()"
   ]
  },
  {
   "attachments": {},
   "cell_type": "markdown",
   "metadata": {},
   "source": [
    "# Q13 Detect HTML Tags, Attributes and Attribute Values"
   ]
  },
  {
   "cell_type": "code",
   "execution_count": null,
   "metadata": {},
   "outputs": [],
   "source": [
    "# Enter your code here. Read input from STDIN. Print output to STDOUT\n",
    "from html.parser import HTMLParser\n",
    "class MyHTMLParser(HTMLParser):\n",
    "    def handle_attributes(self,attrs):\n",
    "        for attribute in attrs:\n",
    "            print(\"->\",attribute[0],\">\",attribute[1])\n",
    "            \n",
    "    def handle_starttag(self, tag, attrs):\n",
    "        print(tag)\n",
    "        self.handle_attributes(attrs)\n",
    "        \n",
    "    def handle_startendtag(self, tag, attrs):\n",
    "        print(tag)\n",
    "        self.handle_attributes(attrs)\n",
    "\n",
    "html = \"\"       \n",
    "for i in range(int(input())):\n",
    "    html += input()\n",
    "    \n",
    "# instantiate the parser and fed it some HTML\n",
    "parser = MyHTMLParser()\n",
    "parser.feed(html)\n",
    "parser.close()"
   ]
  },
  {
   "attachments": {},
   "cell_type": "markdown",
   "metadata": {},
   "source": [
    "# Q14 Validating UID"
   ]
  },
  {
   "cell_type": "code",
   "execution_count": null,
   "metadata": {},
   "outputs": [],
   "source": [
    "# Enter your code here. Read input from STDIN. Print output to STDOUT\n",
    "import re\n",
    "\n",
    "n = int(input())\n",
    "upper = r\".*([A-Z].*){2,}\"\n",
    "digit = r\".*([0-9].*){3,}\"\n",
    "alnum_len = r\"([A-Za-z0-9]){10}$\"\n",
    "repeated = r\".*(.).*\\1\"\n",
    "for _ in range(n):\n",
    "    uid_string = input().strip()\n",
    "    upper_result = bool(re.match(upper, uid_string))\n",
    "    digit_result = bool(re.match(digit, uid_string))\n",
    "    alnum_len_result = bool(\n",
    "        re.match(alnum_len, uid_string)\n",
    "    )\n",
    "    repeated_result = bool(re.match(repeated, uid_string))\n",
    "    if (upper_result and digit_result and alnum_len_result and not repeated_result):\n",
    "        print(\"Valid\")\n",
    "    else:\n",
    "        print(\"Invalid\")"
   ]
  },
  {
   "attachments": {},
   "cell_type": "markdown",
   "metadata": {},
   "source": [
    "# Q15 Validating Credit Card Numbers"
   ]
  },
  {
   "cell_type": "code",
   "execution_count": null,
   "metadata": {},
   "outputs": [],
   "source": [
    "# Enter your code here. Read input from STDIN. Print output to STDOUT\n",
    "import re\n",
    "n=int(input())\n",
    "for i in range(n):\n",
    "    credit=input()\n",
    "    credit_without_hyphen=credit.replace(\"-\",\"\")\n",
    "    is_valid=True\n",
    "    length_16=bool(re.match(r'^[4-6]\\d{15}$',credit))\n",
    "    length_19=bool(re.match(r'^[4-6]\\d{3}-\\d{4}-\\d{4}-\\d{4}$',credit))\n",
    "    conseq=bool(re.findall(r'(?=(\\d)\\1\\1\\1)',credit_without_hyphen))\n",
    "    if length_16 or length_19:\n",
    "        if conseq:\n",
    "            is_valid=False\n",
    "    else:\n",
    "        is_valid=False\n",
    "    if is_valid:\n",
    "        print('Valid')\n",
    "    else:\n",
    "        print('Invalid')"
   ]
  },
  {
   "attachments": {},
   "cell_type": "markdown",
   "metadata": {},
   "source": [
    "# Q16 Validating Postal Codes"
   ]
  },
  {
   "cell_type": "code",
   "execution_count": null,
   "metadata": {},
   "outputs": [],
   "source": [
    "regex_integer_in_range = r\"^[1-9][0-9]{5}$\"\t# Do not delete 'r'.\n",
    "regex_alternating_repetitive_digit_pair = r\"(?=([0-9])[0-9]\\1)\"\t# Do not delete 'r'.\n",
    "\n",
    "\n",
    "import re\n",
    "P = input()\n",
    "\n",
    "print (bool(re.match(regex_integer_in_range, P)) \n",
    "and len(re.findall(regex_alternating_repetitive_digit_pair, P)) < 2)"
   ]
  },
  {
   "attachments": {},
   "cell_type": "markdown",
   "metadata": {},
   "source": [
    "# Q17 Matrix Script"
   ]
  },
  {
   "cell_type": "code",
   "execution_count": null,
   "metadata": {},
   "outputs": [],
   "source": [
    "#!/bin/python3\n",
    "\n",
    "import math\n",
    "import os\n",
    "import random\n",
    "import re\n",
    "import sys\n",
    "\n",
    "first_multiple_input = input().rstrip().split()\n",
    "\n",
    "n = int(first_multiple_input[0])\n",
    "\n",
    "m = int(first_multiple_input[1])\n",
    "\n",
    "matrix = []\n",
    "res=[]\n",
    "for i in range(n):\n",
    "    matrix_item=[x for x in input()]\n",
    "    matrix.append(matrix_item)\n",
    "    \n",
    "for i in range(m):\n",
    "    for j in range(n):\n",
    "        res.append(matrix[j][i])\n",
    "\n",
    "s=''.join(res)\n",
    "decoded=re.sub(r'\\b[ !@#$%&]+\\b',' ',s)\n",
    "\n",
    "print(decoded)\n"
   ]
  }
 ],
 "metadata": {
  "kernelspec": {
   "display_name": "Intern",
   "language": "python",
   "name": "python3"
  },
  "language_info": {
   "codemirror_mode": {
    "name": "ipython",
    "version": 3
   },
   "file_extension": ".py",
   "mimetype": "text/x-python",
   "name": "python",
   "nbconvert_exporter": "python",
   "pygments_lexer": "ipython3",
   "version": "3.11.2"
  },
  "orig_nbformat": 4
 },
 "nbformat": 4,
 "nbformat_minor": 2
}
